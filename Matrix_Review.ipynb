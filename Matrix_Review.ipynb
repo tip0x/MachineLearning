{
  "cells": [
    {
      "cell_type": "markdown",
      "metadata": {
        "id": "view-in-github",
        "colab_type": "text"
      },
      "source": [
        "<a href=\"https://colab.research.google.com/github/tip0x/MachineLearning/blob/main/Matrix_Review.ipynb\" target=\"_parent\"><img src=\"https://colab.research.google.com/assets/colab-badge.svg\" alt=\"Open In Colab\"/></a>"
      ]
    },
    {
      "cell_type": "markdown",
      "metadata": {
        "id": "fHuPZL0-nCfL"
      },
      "source": [
        "# Matrix Review\n",
        "\n",
        "\n"
      ]
    },
    {
      "cell_type": "markdown",
      "metadata": {
        "id": "mSn-KjkvnCfN"
      },
      "source": [
        "Matrix operations are a fundamental part of machine learning and many fields, such as digital signal processing, optimization, control systems, computer graphics, and so on. As a result, there has been a lot of work on optimizing matrix operations, not only in software, but in hardware. Let's say you work for a AI hardware  company, the company has developed a new processor that can only perform matrix operations. The company needs you to implement some popular  statistics such as mean, variance and Principle Component Analysis using Matrix operations\n"
      ]
    },
    {
      "cell_type": "markdown",
      "metadata": {
        "id": "yjmZ9TtGnCfO"
      },
      "source": [
        "<img src=\"https://cf-courses-data.s3.us.cloud-object-storage.appdomain.cloud/IBM-ML0187EN-SkillsNetwork/labs/module%203/images/technology-electronic-device-computer-hardware-computer-component-electronics-motherboard-personal-computer-hardware-cpu-computer-accessory-1536663.jpeg\" width=\"500\" alt=\"https://pxhere.com/en/photo/1536663\">\n"
      ]
    },
    {
      "cell_type": "markdown",
      "metadata": {
        "tags": [],
        "id": "SzhEXn8cnCfP"
      },
      "source": [
        "## Table of Contents\n",
        "\n",
        "<ol>\n",
        "    <li><a href=\"https://#Objectives\">Objectives</a></li>\n",
        "    <li>\n",
        "        <a href=\"https://#Setup\">Setup</a>\n",
        "        <ol>\n",
        "            <li><a href=\"https://#Installing-Required-Libraries\">Installing Required Libraries</a></li>\n",
        "            <li><a href=\"https://#Importing-Required-Libraries\">Importing Required Libraries</a></li>\n",
        "            <li><a href=\"https://#Defining-Helper-Functions\">Defining Helper Functions</a></li>\n",
        "        </ol>\n",
        "    </li>\n",
        "    <li>\n",
        "        <a href=\"https://#Basics of Matrices\">Basics of Matrices</a>\n",
        "        <ol>\n",
        "            <li><a href=\"https://https://https://#What's a Matrix?\">What's a Matrix? </a></li>\n",
        "            <li><a href=\"https://https://https://#Rank of a Matrix\">Rank of a Matrix </a></li>\n",
        "            <li><a href=\"https://#Frobenius Norm of a Matrix\">Frobenius Norm of a Matrix</a></li>\n",
        "            <li><a href=\"https://#Matrix Additione\"> Matrix Addition</a></li>\n",
        "        </ol>\n",
        "    </li>\n",
        "  <li>\n",
        "        <a href=\"https://https://#Matrix and Vector Multiplication\">Matrix and Vector Multiplication</a>\n",
        "        <ol>\n",
        "            <li><a href=\"#What's a Matrix?\"> Dot-Product </a></li>\n",
        "            <li><a href=\"#Rank of a Matrix\">The Outer product</a></li>\n",
        "            <li><a href=\"#Matrix and Vector Multiplication\">Matrix and Vector Multiplication</a></li>\n",
        "            <li><a href=\"https://#Matrix Multiplication\">Multiplying Matrices</a></li>\n",
        "     </ol>\n",
        "   </li>\n",
        "   <li>\n",
        "        <a href=\"https://#Eigen Decomposition\">Eigen Decomposition</a>\n",
        "        <ol>\n",
        "            <li><a href=\"#What's a Matrix?\"> Eigenvectors and Eigenvalues </a></li>\n",
        "            <li><a href=\"#Rank of a Matrix\">The Factorization for PCA</a></li>\n",
        "        </ol>     \n",
        "   </li>\n",
        "\n",
        " </ol>    \n"
      ]
    },
    {
      "cell_type": "markdown",
      "metadata": {
        "id": "FU62ytegnCfS"
      },
      "source": [
        "***\n"
      ]
    },
    {
      "cell_type": "markdown",
      "metadata": {
        "id": "3eVOjTT2nCfT"
      },
      "source": [
        "## Objectives\n",
        "\n",
        "After completing this lab you will be able to:\n",
        "\n",
        "*   **Understand** Basic Matrix operations such as Matrix addition, Vector Multiplication  Eigen decomposition\n",
        "\n",
        "*   **Apply** Apply these Matrix operations using numpy\n"
      ]
    },
    {
      "cell_type": "markdown",
      "metadata": {
        "id": "P12Vis7_nCfU"
      },
      "source": [
        "## Setup\n"
      ]
    },
    {
      "cell_type": "markdown",
      "metadata": {
        "id": "FLUKQVAznCfV"
      },
      "source": [
        "For this lab, we will be using the following libraries:\n",
        "\n",
        "*   [`pandas`](https://pandas.pydata.org/?utm_medium=Exinfluencer&utm_source=Exinfluencer&utm_content=000026UJ&utm_term=10006555&utm_id=NA-SkillsNetwork-Channel-SkillsNetworkCoursesIBMML240ENSkillsNetwork34171862-2022-01-01) for managing the data.\n",
        "*   [`numpy`](https://numpy.org/?utm_medium=Exinfluencer&utm_source=Exinfluencer&utm_content=000026UJ&utm_term=10006555&utm_id=NA-SkillsNetwork-Channel-SkillsNetworkCoursesIBMML240ENSkillsNetwork34171862-2022-01-01) for mathematical operations.\n",
        "*   [`seaborn`](https://seaborn.pydata.org/?utm_medium=Exinfluencer&utm_source=Exinfluencer&utm_content=000026UJ&utm_term=10006555&utm_id=NA-SkillsNetwork-Channel-SkillsNetworkCoursesIBMML240ENSkillsNetwork34171862-2022-01-01) for visualizing the data.\n",
        "*   [`matplotlib`](https://matplotlib.org/?utm_medium=Exinfluencer&utm_source=Exinfluencer&utm_content=000026UJ&utm_term=10006555&utm_id=NA-SkillsNetwork-Channel-SkillsNetworkCoursesIBMML240ENSkillsNetwork34171862-2022-01-01) for visualizing the data.\n",
        "*   [`sklearn`](https://scikit-learn.org/stable/?utm_medium=Exinfluencer&utm_source=Exinfluencer&utm_content=000026UJ&utm_term=10006555&utm_id=NA-SkillsNetwork-Channel-SkillsNetworkCoursesIBMML240ENSkillsNetwork34171862-2022-01-01) for machine learning and machine-learning-pipeline related functions.\n"
      ]
    },
    {
      "cell_type": "markdown",
      "metadata": {
        "id": "GLVIAHasnCfW"
      },
      "source": [
        "### Installing required libraries\n"
      ]
    },
    {
      "cell_type": "markdown",
      "metadata": {
        "id": "RRxofX69nCfW"
      },
      "source": [
        "The following required modules are pre-installed in the Skills Network Labs environment. However, if you run this notebook commands in a different Jupyter environment (e.g. Watson Studio or Ananconda) you will need to install these libraries by removing the `#` sign before `!mamba` in the code cell below.\n"
      ]
    },
    {
      "cell_type": "code",
      "execution_count": 1,
      "metadata": {
        "id": "oaPJtCDKnCfX"
      },
      "outputs": [],
      "source": [
        "# All Libraries required for this lab are listed below. The libraries pre-installed on Skills Network Labs are commented.\n",
        "# !mamba install -qy pandas==1.3.4 numpy==1.21.4 seaborn==0.9.0 matplotlib==3.5.0 scikit-learn==0.20.1\n",
        "# Note: If your environment doesn't support \"!mamba install\", use \"!pip install pandas ==1.3.4 ...\"\n"
      ]
    },
    {
      "cell_type": "markdown",
      "metadata": {
        "id": "Lhv6KpdUnCfa"
      },
      "source": [
        "You can install and use  <a href=\"https://www.sympy.org/en/index.html?utm_medium=Exinfluencer&utm_source=Exinfluencer&utm_content=000026UJ&utm_term=10006555&utm_id=NA-SkillsNetwork-Channel-SkillsNetworkCoursesIBMML0187ENSkillsNetwork31430127-2022-01-01\">SymPy </a> to print matrices\n"
      ]
    },
    {
      "cell_type": "code",
      "execution_count": 2,
      "metadata": {
        "colab": {
          "base_uri": "https://localhost:8080/"
        },
        "id": "sM3HOZqknCfb",
        "outputId": "4e115e39-a8e9-437f-ddf6-c594f2fa4e6f"
      },
      "outputs": [
        {
          "output_type": "stream",
          "name": "stdout",
          "text": [
            "/bin/bash: line 1: conda: command not found\n"
          ]
        }
      ],
      "source": [
        "!conda install -c anaconda sympy -y"
      ]
    },
    {
      "cell_type": "markdown",
      "metadata": {
        "id": "upswis7ynCfb"
      },
      "source": [
        "### Importing required libraries\n"
      ]
    },
    {
      "cell_type": "code",
      "execution_count": 3,
      "metadata": {
        "id": "YXvHe94ZnCfb"
      },
      "outputs": [],
      "source": [
        "# Surpress warnings from using older version of sklearn:\n",
        "def warn(*args, **kwargs):\n",
        "    pass\n",
        "import warnings\n",
        "warnings.warn = warn\n",
        "\n",
        "import numpy as np\n",
        "import matplotlib.pylab as plt\n",
        "\n",
        "from sklearn.decomposition import PCA\n",
        "from sympy import Matrix, init_printing,Symbol\n",
        "from numpy.linalg import qr,eig,inv,matrix_rank,inv, norm\n",
        "from scipy.linalg import null_space\n",
        "init_printing()"
      ]
    },
    {
      "cell_type": "markdown",
      "metadata": {
        "id": "oOvD8VhknCfc"
      },
      "source": [
        "### Defining Helper Functions\n",
        "\n",
        "*Use this section to define any helper functions to help the notebook's code readability:*\n"
      ]
    },
    {
      "cell_type": "code",
      "execution_count": 4,
      "metadata": {
        "id": "Kt3nTIEunCfc"
      },
      "outputs": [],
      "source": [
        "def plot_2d(dict_):\n",
        "    for key, value in dict_.items():\n",
        "        if value.shape[0]>2:\n",
        "            plt.scatter(value[:, 0], value[:, 1],label=key)\n",
        "        else:\n",
        "            print(value)\n",
        "            plt.quiver([0],[0],value[:,0],value[:,1],label=key)\n",
        "\n",
        "    plt.legend()\n",
        "    plt.show()"
      ]
    },
    {
      "cell_type": "markdown",
      "metadata": {
        "tags": [],
        "id": "4ihJlPl3nCfd"
      },
      "source": [
        "## Basics of Matrices\n"
      ]
    },
    {
      "cell_type": "markdown",
      "metadata": {
        "id": "fyEFUQjHnCfd"
      },
      "source": [
        "### What's a Matrix\n"
      ]
    },
    {
      "cell_type": "markdown",
      "metadata": {
        "id": "tnZNfHxynCfe"
      },
      "source": [
        "Numpy treats matrix objects as numpy arrays, so we will use Numpy to create matrices. Let's consider the square matrix A.\n"
      ]
    },
    {
      "cell_type": "markdown",
      "metadata": {
        "id": "zTvcQgCwnCfe"
      },
      "source": [
        "**NOTE**: We use the function `Matrix` to print out the Matrix , each column of matrix has two columns: Matrix $\\mathbf{A}=[\\mathbf{a}*{1},\\mathbf{a}*{2}]$\n"
      ]
    },
    {
      "cell_type": "code",
      "execution_count": 5,
      "metadata": {
        "colab": {
          "base_uri": "https://localhost:8080/",
          "height": 58
        },
        "id": "ztf3z_UInCff",
        "outputId": "8b82b91d-1e0d-4de9-a4ef-c06ae53266b5"
      },
      "outputs": [
        {
          "output_type": "execute_result",
          "data": {
            "text/plain": [
              "⎡2  -3⎤\n",
              "⎢     ⎥\n",
              "⎣4  7 ⎦"
            ],
            "text/latex": "$\\displaystyle \\left[\\begin{matrix}2 & -3\\\\4 & 7\\end{matrix}\\right]$"
          },
          "metadata": {},
          "execution_count": 5
        }
      ],
      "source": [
        "A=np.array([[2,-3],[4,7]])\n",
        "\n",
        "Matrix(A)"
      ]
    },
    {
      "cell_type": "code",
      "execution_count": 6,
      "metadata": {
        "colab": {
          "base_uri": "https://localhost:8080/"
        },
        "id": "Qc_2MzqvnCff",
        "outputId": "ee553246-b145-40bc-e5fa-774293d6f859"
      },
      "outputs": [
        {
          "output_type": "execute_result",
          "data": {
            "text/plain": [
              "array([2, 4])"
            ]
          },
          "metadata": {},
          "execution_count": 6
        }
      ],
      "source": [
        "a1=A[:,0]\n",
        "a1"
      ]
    },
    {
      "cell_type": "code",
      "execution_count": 7,
      "metadata": {
        "colab": {
          "base_uri": "https://localhost:8080/"
        },
        "id": "Zdo7Hfp6nCfg",
        "outputId": "82e1fcd2-0054-447b-ac23-6b06ecd19b0c"
      },
      "outputs": [
        {
          "output_type": "execute_result",
          "data": {
            "text/plain": [
              "array([-3,  7])"
            ]
          },
          "metadata": {},
          "execution_count": 7
        }
      ],
      "source": [
        "a2=A[:,1]\n",
        "a2"
      ]
    },
    {
      "cell_type": "markdown",
      "metadata": {
        "id": "S79S-gKpnCfg"
      },
      "source": [
        "Denoted by $A^{T}$, the transpose of a matrix  switches the row and column indices of the matrix, in numpy we can determine the transpose of $A$ as follows:\n"
      ]
    },
    {
      "cell_type": "code",
      "execution_count": 8,
      "metadata": {
        "colab": {
          "base_uri": "https://localhost:8080/",
          "height": 58
        },
        "id": "Aw0iGQkXnCfh",
        "outputId": "85ddc8c9-1b60-43d8-ea30-b565978f3a04"
      },
      "outputs": [
        {
          "output_type": "execute_result",
          "data": {
            "text/plain": [
              "⎡2   4⎤\n",
              "⎢     ⎥\n",
              "⎣-3  7⎦"
            ],
            "text/latex": "$\\displaystyle \\left[\\begin{matrix}2 & 4\\\\-3 & 7\\end{matrix}\\right]$"
          },
          "metadata": {},
          "execution_count": 8
        }
      ],
      "source": [
        "AT=A.T\n",
        "Matrix(AT)"
      ]
    },
    {
      "cell_type": "markdown",
      "metadata": {
        "id": "kF9XKkF9nCfi"
      },
      "source": [
        "### Rank of a Matrix\n"
      ]
    },
    {
      "cell_type": "markdown",
      "metadata": {
        "id": "jhCN_w7GnCfi"
      },
      "source": [
        "The rank of a matrix is the number of dimension the rows of the matrix \"live in\".  You can verify the Matrix truly behaves like a  square matrix if it's <a href='https://en.wikipedia.org/wiki/Rank_(linear_algebra)?utm_medium=Exinfluencer&utm_source=Exinfluencer&utm_content=000026UJ&utm_term=10006555&utm_id=NA-SkillsNetwork-Channel-SkillsNetworkCoursesIBMML0187ENSkillsNetwork31430127-2022-01-01'>rank</a> is equal to the number of rows or columns, then it is referred to as **full rank**.\n"
      ]
    },
    {
      "cell_type": "code",
      "execution_count": 9,
      "metadata": {
        "colab": {
          "base_uri": "https://localhost:8080/"
        },
        "id": "Tc8i13KmnCfj",
        "outputId": "ff6b7444-2950-4a98-ec43-329a8dd113ae"
      },
      "outputs": [
        {
          "output_type": "execute_result",
          "data": {
            "text/plain": [
              "2"
            ]
          },
          "metadata": {},
          "execution_count": 9
        }
      ],
      "source": [
        "matrix_rank(A)"
      ]
    },
    {
      "cell_type": "markdown",
      "metadata": {
        "id": "p1aCkCzanCfj"
      },
      "source": [
        "We can plot the columns of $A$ as vectors.\n"
      ]
    },
    {
      "cell_type": "code",
      "execution_count": 10,
      "metadata": {
        "colab": {
          "base_uri": "https://localhost:8080/",
          "height": 622
        },
        "id": "HPh9QLx3nCfk",
        "outputId": "afcd9da3-4908-4ce9-f556-e473e20ff01f"
      },
      "outputs": [
        {
          "output_type": "display_data",
          "data": {
            "text/plain": [
              "<Figure size 1200x700 with 1 Axes>"
            ],
            "image/png": "[encoded data removed]"
          },
          "metadata": {}
        }
      ],
      "source": [
        "fig, ax = plt.subplots(figsize = (12, 7))\n",
        "\n",
        "ax.quiver([0, 0],[0, 0],A[0,0], A[1,0],scale=30,label=\"$a_{1}$\")\n",
        "ax.quiver([0, 0],[0, 0],A[0,1], A[1,1],scale=30,label=\"$a_{2}$\")\n",
        "plt.title(\"columns of $A$ \")\n",
        "plt.legend()\n",
        "plt.show()"
      ]
    },
    {
      "cell_type": "markdown",
      "metadata": {
        "id": "pbvw2CAinCfk"
      },
      "source": [
        "As the vectors are not parallel, we can define any point on the 2d space as a scaled  combination of those two vectors.\n",
        "\n",
        "If any of the columns in a matrix  are multiples of each other, the vectors point in the same direction and the matrix is not full rank.\n"
      ]
    },
    {
      "cell_type": "code",
      "execution_count": 11,
      "metadata": {
        "colab": {
          "base_uri": "https://localhost:8080/"
        },
        "id": "yr_0o1MmnCfl",
        "outputId": "19611137-da22-4b19-ea2a-a09cff8b5616"
      },
      "outputs": [
        {
          "output_type": "execute_result",
          "data": {
            "text/plain": [
              "1"
            ]
          },
          "metadata": {},
          "execution_count": 11
        }
      ],
      "source": [
        "F=np.array([[2,4],[4,8]])\n",
        "matrix_rank(F)"
      ]
    },
    {
      "cell_type": "markdown",
      "metadata": {
        "id": "IjalygF-nCfl"
      },
      "source": [
        "We see the columns are pointing  in the same direction\n"
      ]
    },
    {
      "cell_type": "code",
      "execution_count": 12,
      "metadata": {
        "colab": {
          "base_uri": "https://localhost:8080/",
          "height": 622
        },
        "id": "nKwS521dnCfl",
        "outputId": "c27fd2bf-8d47-4436-e495-da56fe75674d"
      },
      "outputs": [
        {
          "output_type": "display_data",
          "data": {
            "text/plain": [
              "<Figure size 1200x700 with 1 Axes>"
            ],
            "image/png": "[encoded data removed]"
          },
          "metadata": {}
        }
      ],
      "source": [
        "fig, ax = plt.subplots(figsize = (12, 7))\n",
        "ax.quiver([0, 0],[0, 0],F[0,1], F[1,1],scale=30,label=\"$f_{2}$\",color='red')\n",
        "ax.quiver([0, 0],[0, 0],F[0,0], F[1,0],scale=30,label=\"$f_{1}$\")\n",
        "plt.title(\"columns of $F$ \")\n",
        "plt.legend()\n",
        "plt.show()"
      ]
    },
    {
      "cell_type": "markdown",
      "metadata": {
        "id": "Npg9q6Z3nCfm"
      },
      "source": [
        "A common occurance is a matrix with more columns than rows, but in data, more rows than columns is more common. Consider the matrix $F$.\n"
      ]
    },
    {
      "cell_type": "code",
      "execution_count": 13,
      "metadata": {
        "colab": {
          "base_uri": "https://localhost:8080/",
          "height": 78
        },
        "id": "UokZFOkbnCfm",
        "outputId": "d231dd10-a9c9-47c3-b169-388b1a934d53"
      },
      "outputs": [
        {
          "output_type": "execute_result",
          "data": {
            "text/plain": [
              "⎡1   2 ⎤\n",
              "⎢      ⎥\n",
              "⎢1   -2⎥\n",
              "⎢      ⎥\n",
              "⎣-1  1 ⎦"
            ],
            "text/latex": "$\\displaystyle \\left[\\begin{matrix}1 & 2\\\\1 & -2\\\\-1 & 1\\end{matrix}\\right]$"
          },
          "metadata": {},
          "execution_count": 13
        }
      ],
      "source": [
        "F=np.array([[1,2],[1,-2],[-1,1]])\n",
        "Matrix(F)"
      ]
    },
    {
      "cell_type": "markdown",
      "metadata": {
        "id": "SrSldfoTnCfn"
      },
      "source": [
        "Although, the rows of matrix $F$ are 3 dimensions, you can only describe the point lying in the 2D plane, as shown here:\n"
      ]
    },
    {
      "cell_type": "code",
      "execution_count": 14,
      "metadata": {
        "colab": {
          "base_uri": "https://localhost:8080/",
          "height": 418
        },
        "id": "SD7D1U-hnCfu",
        "outputId": "f706cef3-d9e7-4b5b-fef9-c165d62d9fe4"
      },
      "outputs": [
        {
          "output_type": "display_data",
          "data": {
            "text/plain": [
              "<Figure size 640x480 with 1 Axes>"
            ],
            "image/png": "[encoded data removed]"
          },
          "metadata": {}
        }
      ],
      "source": [
        "ax = plt.figure().add_subplot(projection='3d')\n",
        "p=null_space(F.T)\n",
        "xx, yy = np.meshgrid(np.arange(-3,3,0.1), np.arange(-3,3,0.1))\n",
        "z=(p[0]*xx+p[1]*yy)/p[2]\n",
        "ax.plot_surface(xx, yy, z, alpha=0.1)\n",
        "ax.quiver([0,0], [0,0], [0,0], F[0,:], F[1,:], F[2,:])\n",
        "\n",
        "ax.set_xlim([-3, 3])\n",
        "ax.set_ylim([-3, 3])\n",
        "ax.set_zlim([-3, 3])\n",
        "plt.show()"
      ]
    },
    {
      "cell_type": "markdown",
      "metadata": {
        "id": "RgArcTa-nCfv"
      },
      "source": [
        "Therefore, the rank is 2.\n"
      ]
    },
    {
      "cell_type": "code",
      "execution_count": 15,
      "metadata": {
        "colab": {
          "base_uri": "https://localhost:8080/"
        },
        "id": "RZ_f2qUgnCfv",
        "outputId": "ed0c60dd-63b2-4e23-a7ed-b2654a3d2f60"
      },
      "outputs": [
        {
          "output_type": "execute_result",
          "data": {
            "text/plain": [
              "2"
            ]
          },
          "metadata": {},
          "execution_count": 15
        }
      ],
      "source": [
        "matrix_rank(F)"
      ]
    },
    {
      "cell_type": "markdown",
      "metadata": {
        "id": "hPoT4wq6nCfw"
      },
      "source": [
        "### Frobenius Norm of a Matrix\n"
      ]
    },
    {
      "cell_type": "markdown",
      "metadata": {
        "id": "LiPbUoaGnCfw"
      },
      "source": [
        "The Frobenius norm, sometimes also called the **Euclidean norm**, is the matrix norm of an $m×n$. Matrix A is defined as the square root of the sum of the absolute squares of its elements:\n",
        "\n",
        "$$|A| *F = \\sqrt{\\sum*{i=1}^m \\sum\\_{j=1}^n |a\\_{ij}|^2}$$\n",
        "\n",
        "Let's use the matrix A again as an example:\n"
      ]
    },
    {
      "cell_type": "code",
      "execution_count": 16,
      "metadata": {
        "colab": {
          "base_uri": "https://localhost:8080/",
          "height": 58
        },
        "id": "RcweOqMenCfx",
        "outputId": "fe6808b5-7598-4f18-8c8e-af7d51f1945a"
      },
      "outputs": [
        {
          "output_type": "execute_result",
          "data": {
            "text/plain": [
              "⎛⎡2  -3⎤                   ⎞\n",
              "⎜⎢     ⎥, 8.831760866327848⎟\n",
              "⎝⎣4  7 ⎦                   ⎠"
            ],
            "text/latex": "$\\displaystyle \\left( \\left[\\begin{matrix}2 & -3\\\\4 & 7\\end{matrix}\\right], \\  8.83176086632785\\right)$"
          },
          "metadata": {},
          "execution_count": 16
        }
      ],
      "source": [
        "Matrix(A), norm(A)"
      ]
    },
    {
      "cell_type": "markdown",
      "metadata": {
        "id": "9nD4bnopnCfx"
      },
      "source": [
        "You could also calculate the matrix norm manually, using the formula provided above, and confirm that the results are the same.\n"
      ]
    },
    {
      "cell_type": "code",
      "execution_count": 17,
      "metadata": {
        "colab": {
          "base_uri": "https://localhost:8080/",
          "height": 37
        },
        "id": "wccPB9HunCfy",
        "outputId": "3c65226e-ddfa-4b8d-be97-1e799e16086e"
      },
      "outputs": [
        {
          "output_type": "execute_result",
          "data": {
            "text/plain": [
              "8.831760866327848"
            ],
            "text/latex": "$\\displaystyle 8.83176086632785$"
          },
          "metadata": {},
          "execution_count": 17
        }
      ],
      "source": [
        "m, n = A.shape[0], A.shape[1] # get number of rows and columns\n",
        "ss = 0\n",
        "\n",
        "for i in range(m):\n",
        "    for j in range(n):\n",
        "        ss += A[i,j] ** 2\n",
        "np.sqrt(ss)"
      ]
    },
    {
      "cell_type": "markdown",
      "metadata": {
        "id": "L4aMdCaVnCfy"
      },
      "source": [
        "### Matrix Addition\n"
      ]
    },
    {
      "cell_type": "markdown",
      "metadata": {
        "id": "RLW-WPvdnCfz"
      },
      "source": [
        "Consider matrix $B$:\n"
      ]
    },
    {
      "cell_type": "code",
      "execution_count": 18,
      "metadata": {
        "colab": {
          "base_uri": "https://localhost:8080/",
          "height": 58
        },
        "id": "apAW4bP8nCfz",
        "outputId": "157b8671-6407-45dd-f385-5670c46724e0"
      },
      "outputs": [
        {
          "output_type": "execute_result",
          "data": {
            "text/plain": [
              "⎡1  1 ⎤\n",
              "⎢     ⎥\n",
              "⎣1  -1⎦"
            ],
            "text/latex": "$\\displaystyle \\left[\\begin{matrix}1 & 1\\\\1 & -1\\end{matrix}\\right]$"
          },
          "metadata": {},
          "execution_count": 18
        }
      ],
      "source": [
        "B=np.array([[1,1],[1,-1]])\n",
        "Matrix(B)"
      ]
    },
    {
      "cell_type": "markdown",
      "metadata": {
        "id": "RVGpQeVfnCf0"
      },
      "source": [
        "In general, if we have matrix $\\mathbf{A}$ and matrix $\\mathbf{B}$\n"
      ]
    },
    {
      "cell_type": "markdown",
      "metadata": {
        "id": "fyMKNd37nCf0"
      },
      "source": [
        "$\\begin{align}\n",
        "\\mathbf{A}= \\begin{bmatrix}\n",
        "a\\_{11} & a\\_{12} & \\cdots & a\\_{1n} \\\\\\\\\\\\\n",
        "a\\_{21} & a\\_{22} & \\cdots & a\\_{2n} \\\\\\\\\\\\\n",
        "\\vdots & \\vdots & \\ddots & \\vdots \\\\\\\\\\\\\n",
        "a\\_{m1} & a\\_{m2} & \\cdots & a\\_{mn} \\\\\\\\\\\\\n",
        "\\end{bmatrix}\n",
        "\\end{align}$\n",
        "$\\begin{align}\n",
        "\\mathbf{B}=\\begin{bmatrix}\n",
        "b\\_{11} & b\\_{12} & \\cdots & b\\_{1n} \\\\\\\\\\\\\n",
        "b\\_{21} & b\\_{22} & \\cdots & b\\_{2n} \\\\\\\\\\\\\n",
        "\\vdots & \\vdots & \\ddots & \\vdots \\\\\\\\\\\\\n",
        "b\\_{m1} & b\\_{m2} & \\cdots & b\\_{mn} \\\\\\\\\\\\\n",
        "\\end{bmatrix}\n",
        "\\end{align}$\n"
      ]
    },
    {
      "cell_type": "markdown",
      "metadata": {
        "id": "tFbriHZEnCf0"
      },
      "source": [
        "To be added, the two matrices must have an equal number of rows and columns, where we add the corresponding row and column element:\n"
      ]
    },
    {
      "cell_type": "markdown",
      "metadata": {
        "id": "c8cOjQGCnCf2"
      },
      "source": [
        "$\\begin{align}\n",
        "\\mathbf{A}+\\mathbf{B}=\\begin{bmatrix}\n",
        "a\\_{11} + b\\_{11} & a\\_{12} + b\\_{12} & \\cdots & a\\_{1n} + b\\_{1n} \\\\\\\\\\\\\n",
        "a\\_{21} + b\\_{21} & a\\_{22} + b\\_{22} & \\cdots & a\\_{2n} + b\\_{2n} \\\\\\\\\\\\\n",
        "\\vdots & \\vdots & \\ddots & \\vdots \\\\\\\\\\\\\n",
        "a\\_{m1} + b\\_{m1} & a\\_{m2} + b\\_{m2} & \\cdots & a\\_{mn} + b\\_{mn} \\\\\\\\\\\\\n",
        "\\end{bmatrix}\n",
        "\\end{align}$\n"
      ]
    },
    {
      "cell_type": "markdown",
      "metadata": {
        "id": "_gXV3meenCf5"
      },
      "source": [
        "In numpy, we can add two arrays as follows:\n"
      ]
    },
    {
      "cell_type": "code",
      "execution_count": 19,
      "metadata": {
        "colab": {
          "base_uri": "https://localhost:8080/",
          "height": 58
        },
        "id": "AhMd15EmnCf5",
        "outputId": "e1eabf5d-e645-4a82-d460-eb9f0c8abf7c"
      },
      "outputs": [
        {
          "output_type": "execute_result",
          "data": {
            "text/plain": [
              "⎡3  -2⎤\n",
              "⎢     ⎥\n",
              "⎣5  6 ⎦"
            ],
            "text/latex": "$\\displaystyle \\left[\\begin{matrix}3 & -2\\\\5 & 6\\end{matrix}\\right]$"
          },
          "metadata": {},
          "execution_count": 19
        }
      ],
      "source": [
        "C=A+B\n",
        "Matrix(C)"
      ]
    },
    {
      "cell_type": "markdown",
      "metadata": {
        "id": "E7-jfcEqnCf6"
      },
      "source": [
        "This matrix is symmetric. This means $B=B^{T}$, we can verify this in Python:\n"
      ]
    },
    {
      "cell_type": "code",
      "execution_count": 20,
      "metadata": {
        "colab": {
          "base_uri": "https://localhost:8080/",
          "height": 58
        },
        "id": "DUvXmFvfnCf6",
        "outputId": "e609616e-2612-46cb-e443-8b4744d3bc28"
      },
      "outputs": [
        {
          "output_type": "execute_result",
          "data": {
            "text/plain": [
              "⎡1  1 ⎤\n",
              "⎢     ⎥\n",
              "⎣1  -1⎦"
            ],
            "text/latex": "$\\displaystyle \\left[\\begin{matrix}1 & 1\\\\1 & -1\\end{matrix}\\right]$"
          },
          "metadata": {},
          "execution_count": 20
        }
      ],
      "source": [
        "B_T=B.T\n",
        "Matrix(B_T)"
      ]
    },
    {
      "cell_type": "markdown",
      "metadata": {
        "id": "WMfQpLRinCf7"
      },
      "source": [
        "Arbitrary semantic matrix $S=C+C^T$, where $C$ is any matrix.\n"
      ]
    },
    {
      "cell_type": "code",
      "execution_count": 21,
      "metadata": {
        "id": "fOQjtQFOnCf7"
      },
      "outputs": [],
      "source": [
        "C=np.random.randn(2,2)\n",
        "S=C+C.T"
      ]
    },
    {
      "cell_type": "code",
      "execution_count": 22,
      "metadata": {
        "colab": {
          "base_uri": "https://localhost:8080/",
          "height": 58
        },
        "id": "X4IIgNrZnCf8",
        "outputId": "ce28366b-4108-43ac-978a-2fac922b0e9e"
      },
      "outputs": [
        {
          "output_type": "execute_result",
          "data": {
            "text/plain": [
              "⎡-1.19769073009504   0.0793283403831087⎤\n",
              "⎢                                      ⎥\n",
              "⎣0.0793283403831087  0.932855020922476 ⎦"
            ],
            "text/latex": "$\\displaystyle \\left[\\begin{matrix}-1.19769073009504 & 0.0793283403831087\\\\0.0793283403831087 & 0.932855020922476\\end{matrix}\\right]$"
          },
          "metadata": {},
          "execution_count": 22
        }
      ],
      "source": [
        "Matrix(S)"
      ]
    },
    {
      "cell_type": "code",
      "execution_count": 23,
      "metadata": {
        "colab": {
          "base_uri": "https://localhost:8080/",
          "height": 58
        },
        "id": "DTYyphe_nCf8",
        "outputId": "25f10d0b-d117-4b71-b705-3edbf7b66954"
      },
      "outputs": [
        {
          "output_type": "execute_result",
          "data": {
            "text/plain": [
              "⎡-1.19769073009504   0.0793283403831087⎤\n",
              "⎢                                      ⎥\n",
              "⎣0.0793283403831087  0.932855020922476 ⎦"
            ],
            "text/latex": "$\\displaystyle \\left[\\begin{matrix}-1.19769073009504 & 0.0793283403831087\\\\0.0793283403831087 & 0.932855020922476\\end{matrix}\\right]$"
          },
          "metadata": {},
          "execution_count": 23
        }
      ],
      "source": [
        "Matrix(S.T)"
      ]
    },
    {
      "cell_type": "markdown",
      "metadata": {
        "id": "w6vrOJ8unCf9"
      },
      "source": [
        "<b>Diagonal matrix</b> is a matrix in which the entries outside of the main diagonal are all zero.\n"
      ]
    },
    {
      "cell_type": "code",
      "execution_count": 24,
      "metadata": {
        "colab": {
          "base_uri": "https://localhost:8080/",
          "height": 78
        },
        "id": "pHIeDhOSnCf9",
        "outputId": "bec8bac4-7c22-4762-a836-05a669ec6402"
      },
      "outputs": [
        {
          "output_type": "execute_result",
          "data": {
            "text/plain": [
              "⎡1  0  0⎤\n",
              "⎢       ⎥\n",
              "⎢0  2  0⎥\n",
              "⎢       ⎥\n",
              "⎣0  0  3⎦"
            ],
            "text/latex": "$\\displaystyle \\left[\\begin{matrix}1 & 0 & 0\\\\0 & 2 & 0\\\\0 & 0 & 3\\end{matrix}\\right]$"
          },
          "metadata": {},
          "execution_count": 24
        }
      ],
      "source": [
        "Matrix(np.diag(np.array([1,2,3])))"
      ]
    },
    {
      "cell_type": "markdown",
      "metadata": {
        "id": "tdr--hTfnCf9"
      },
      "source": [
        "If the main diagonal is one, it's called a identity matrix in numpy.\n"
      ]
    },
    {
      "cell_type": "code",
      "execution_count": 25,
      "metadata": {
        "colab": {
          "base_uri": "https://localhost:8080/",
          "height": 78
        },
        "id": "lDS0RHBwnCf-",
        "outputId": "fbc92a64-bec8-42b1-d57f-fb7577583872"
      },
      "outputs": [
        {
          "output_type": "execute_result",
          "data": {
            "text/plain": [
              "⎡1.0   0    0 ⎤\n",
              "⎢             ⎥\n",
              "⎢ 0   1.0   0 ⎥\n",
              "⎢             ⎥\n",
              "⎣ 0    0   1.0⎦"
            ],
            "text/latex": "$\\displaystyle \\left[\\begin{matrix}1.0 & 0 & 0\\\\0 & 1.0 & 0\\\\0 & 0 & 1.0\\end{matrix}\\right]$"
          },
          "metadata": {},
          "execution_count": 25
        }
      ],
      "source": [
        "Matrix(np.eye(3))"
      ]
    },
    {
      "cell_type": "markdown",
      "metadata": {
        "id": "bvWCZNcInCf-"
      },
      "source": [
        "## Matrix and Vector Multiplication\n"
      ]
    },
    {
      "cell_type": "markdown",
      "metadata": {
        "id": "-PAnBQZWnCf_"
      },
      "source": [
        "### Dot-Product\n"
      ]
    },
    {
      "cell_type": "markdown",
      "metadata": {
        "id": "9V_DPm8ynCf_"
      },
      "source": [
        "We can define a vector as a one dimensional array of $\\mathbf{a}$ and $\\mathbf{b}$, and we can find the dot product of the two as follows:\n"
      ]
    },
    {
      "cell_type": "markdown",
      "metadata": {
        "id": "LEU6tihwnCgA"
      },
      "source": [
        "$ a^T  b = \\sum\\_{i=1}^n a_i b_i = a\\_1 b\\_1 + \\cdots + a_n b_n$\n"
      ]
    },
    {
      "cell_type": "markdown",
      "metadata": {
        "id": "eCCB4dUEnCgA"
      },
      "source": [
        "Where  $\\mathbf{a}$ and  $\\mathbf{b}$ have the same length, in numpy:\n"
      ]
    },
    {
      "cell_type": "code",
      "execution_count": 26,
      "metadata": {
        "id": "rQ6TzhCrnCgE"
      },
      "outputs": [],
      "source": [
        "a=np.array([1,1])\n",
        "b=np.array([1,2])"
      ]
    },
    {
      "cell_type": "markdown",
      "metadata": {
        "id": "V7z3ODQKnCgF"
      },
      "source": [
        "We can verify that the dimension is one.\n"
      ]
    },
    {
      "cell_type": "code",
      "execution_count": 27,
      "metadata": {
        "colab": {
          "base_uri": "https://localhost:8080/",
          "height": 37
        },
        "id": "0B8OrUbLnCgG",
        "outputId": "1036ce73-701a-4684-ecd2-edc1cffdb250"
      },
      "outputs": [
        {
          "output_type": "execute_result",
          "data": {
            "text/plain": [
              "1"
            ],
            "text/latex": "$\\displaystyle 1$"
          },
          "metadata": {},
          "execution_count": 27
        }
      ],
      "source": [
        "a.ndim"
      ]
    },
    {
      "cell_type": "markdown",
      "metadata": {
        "id": "a-Sdrh-AnCgG"
      },
      "source": [
        "Find the dot product\n"
      ]
    },
    {
      "cell_type": "code",
      "execution_count": 28,
      "metadata": {
        "colab": {
          "base_uri": "https://localhost:8080/"
        },
        "id": "sPwp6isrnCgG",
        "outputId": "315705a1-afdf-458e-c657-decb25b04f2b"
      },
      "outputs": [
        {
          "output_type": "execute_result",
          "data": {
            "text/plain": [
              "3"
            ]
          },
          "metadata": {},
          "execution_count": 28
        }
      ],
      "source": [
        "a@b"
      ]
    },
    {
      "cell_type": "markdown",
      "metadata": {
        "id": "zrc-_j1snCgH"
      },
      "source": [
        "If the array is 2- dimension, the order matters. $a^{T}$ must be a row vector of shape $1xm$ and $b$ a column vector of shape $mx1$.\n"
      ]
    },
    {
      "cell_type": "markdown",
      "metadata": {
        "id": "j_yzafC8nCgH"
      },
      "source": [
        "$a^{T} = \\begin{bmatrix}\n",
        "a\\_{1},a\\_{2},..,a\\_{n}\n",
        "\\end{bmatrix}$\n",
        "\n",
        "$b = \\begin{bmatrix}\n",
        "b\\_{1} \\\\\\\\\\\\\n",
        "b\\_{2} \\\\\\\\\\\\\n",
        "\\vdots \\\\\\\\\\\\\n",
        "b\\_{n}\n",
        "\\end{bmatrix}$\n"
      ]
    },
    {
      "cell_type": "code",
      "execution_count": 29,
      "metadata": {
        "colab": {
          "base_uri": "https://localhost:8080/"
        },
        "id": "yajcIW9qnCgI",
        "outputId": "f5f6498e-7c2e-4e55-dbe7-bdd5ca38bc42"
      },
      "outputs": [
        {
          "output_type": "execute_result",
          "data": {
            "text/plain": [
              "array([[3]])"
            ]
          },
          "metadata": {},
          "execution_count": 29
        }
      ],
      "source": [
        "a=np.array([[1],[1]])\n",
        "b=np.array([[1],[2]])\n",
        "a.T@b"
      ]
    },
    {
      "cell_type": "markdown",
      "metadata": {
        "id": "z0GayeIxnCgI"
      },
      "source": [
        "### Exercise 1\n",
        "\n",
        "Calculate the dot product of $a$ and $one$.\n"
      ]
    },
    {
      "cell_type": "code",
      "execution_count": 30,
      "metadata": {
        "id": "chh3XZFvnCgJ"
      },
      "outputs": [],
      "source": [
        "one=np.ones(2)\n",
        "\n",
        "# TO DO\n"
      ]
    },
    {
      "cell_type": "markdown",
      "metadata": {
        "id": "jOUnAUS4nCgK"
      },
      "source": [
        "<details>\n",
        "    <summary>Click here for Solution</summary>\n",
        "\n",
        "```python\n",
        "a.T@one\n",
        "```\n",
        "\n",
        "</details>\n"
      ]
    },
    {
      "cell_type": "markdown",
      "metadata": {
        "id": "zewZbUy3nCgL"
      },
      "source": [
        "### The Outer product\n"
      ]
    },
    {
      "cell_type": "markdown",
      "metadata": {
        "id": "vSGLQVVenCgL"
      },
      "source": [
        "The outer product is another useful matrix operation. Consider the matrix or vector $ \\mathbf{u}$ of size $nx1$ and matrix or vector $\\mathbf{v}$ $1xm$. Then their outer product is:\n"
      ]
    },
    {
      "cell_type": "markdown",
      "metadata": {
        "id": "nIWiRY9ynCgM"
      },
      "source": [
        "$\n",
        "\\mathbf{u} \\otimes \\mathbf{v} = \\mathbf{u}\\mathbf{v}^\\textsf{T} =\n",
        "\\begin{bmatrix}u\\_1 \\\\\\\\\\ u\\_2 \\ \\vdots\\ u_n\\end{bmatrix}\n",
        "\\begin{bmatrix}v\\_1 & .. & v_m\\end{bmatrix} =\n",
        "\\begin{bmatrix}\n",
        "u\\_1 v\\_1 & .. & u\\_1 v_m\\\\\\\\\\\\\n",
        "u\\_2 v\\_1 & u\\_2 v\\_2 & u\\_2 v\\_3 \\\\\\\\\\\\\n",
        "\\vdots   & \\ddots & \\vdots \\\\\\\\\\\\\n",
        "u_n v\\_1 &  .. & u_n v_m\n",
        "\\end{bmatrix}.\n",
        "$\n"
      ]
    },
    {
      "cell_type": "markdown",
      "metadata": {
        "id": "RrmAlSlwnCgM"
      },
      "source": [
        "We can perform the outer product in numpy as follows\n"
      ]
    },
    {
      "cell_type": "code",
      "execution_count": 31,
      "metadata": {
        "id": "mqYutpxZnCgM"
      },
      "outputs": [],
      "source": [
        "u= np.array([[1],[2],[3],[4]])\n",
        "v= np.array([[0],[1],[2],[3],[6]])\n",
        "# TO DO\n"
      ]
    },
    {
      "cell_type": "markdown",
      "metadata": {
        "id": "7WKeeVjmnCgN"
      },
      "source": [
        "<details>\n",
        "    <summary>Click here for Solution</summary>\n",
        "\n",
        "```python\n",
        "Matrix(u@v.T)\n",
        "```\n",
        "\n",
        "</details>\n"
      ]
    },
    {
      "cell_type": "markdown",
      "metadata": {
        "id": "RlFR2k7JnCgN"
      },
      "source": [
        "### Exercise 2\n",
        "\n",
        "Create a matrix with 4 columns where each even column is  the vector  `u`  or else it is  zero, show the rank is one:\n"
      ]
    },
    {
      "cell_type": "code",
      "execution_count": 32,
      "metadata": {
        "id": "p0RRsHMinCgO"
      },
      "outputs": [],
      "source": [
        "u=np.array([[1],[2]])\n",
        "# TO DO\n"
      ]
    },
    {
      "cell_type": "markdown",
      "metadata": {
        "id": "FQDAhyKinCgP"
      },
      "source": [
        "<details>\n",
        "    <summary>Click here for Solution</summary>\n",
        "\n",
        "```python\n",
        "Matrix(u@np.array([[0,1,0,1]]))\n",
        "```\n",
        "\n",
        "</details>\n"
      ]
    },
    {
      "cell_type": "markdown",
      "metadata": {
        "id": "WhDxtpZ_nCgP"
      },
      "source": [
        "### Matrix and Vector Multiplication\n"
      ]
    },
    {
      "cell_type": "markdown",
      "metadata": {
        "id": "UFUSjKR1nCgQ"
      },
      "source": [
        "We can also multiply a matrix by a vector and get a new vector. Consider the vector $\\mathbf{x}$:\n"
      ]
    },
    {
      "cell_type": "markdown",
      "metadata": {
        "id": "fpRKinE9nCgQ"
      },
      "source": [
        "$\n",
        "\\mathbf{x}=\n",
        "\\begin{bmatrix}\n",
        "x\\_1 \\\\\\\\\\\\\n",
        "x\\_2 \\\\\\\\\\\\\n",
        "\\vdots \\\\\\\\\\\\\n",
        "x_n\n",
        "\\end{bmatrix}\n",
        "$\n"
      ]
    },
    {
      "cell_type": "markdown",
      "metadata": {
        "id": "lQcj3UeBnCgR"
      },
      "source": [
        "The following  $\\mathbf{Ax}=\\mathbf b$  matrix multiplication  is defined as the dot product  $\\mathbf{x}$ with each row of $\\mathbf{A}$ :\n"
      ]
    },
    {
      "cell_type": "markdown",
      "metadata": {
        "id": "Ox0AcCoVnCgS"
      },
      "source": [
        "$\n",
        "\\begin{matrix}a\\_{11}x\\_1+\\cdots + a\\_{1n}x_n=b\\_1\n",
        "\\\\\\\\\\ a\\_{21}x\\_1+\\cdots + a\\_{2n}x_n =b\\_2\n",
        "\\\\\\\\\\ \\vdots\n",
        "\\\\\\\\\\ a\\_{m1}x\\_1+\\cdots + a\\_{mn}x_n =b_m\\end{matrix}\n",
        "$\n"
      ]
    },
    {
      "cell_type": "markdown",
      "metadata": {
        "id": "DsMCR7ktnCgS"
      },
      "source": [
        "Where ,\n"
      ]
    },
    {
      "cell_type": "markdown",
      "metadata": {
        "id": "PMGL1aDdnCgT"
      },
      "source": [
        "$\n",
        "\\mathbf{b}=\n",
        "\\begin{bmatrix}\n",
        "b\\_1 \\\\\\\\\\\\\n",
        "b\\_2 \\\\\\\\\\\\\n",
        "\\vdots \\\\\\\\\\\\\n",
        "b_m\n",
        "\\end{bmatrix}\n",
        "$\n"
      ]
    },
    {
      "cell_type": "markdown",
      "metadata": {
        "id": "FVn7ngMKnCgT"
      },
      "source": [
        "In numpy:\n"
      ]
    },
    {
      "cell_type": "code",
      "execution_count": 33,
      "metadata": {
        "id": "jQ2UsKUEnCgU"
      },
      "outputs": [],
      "source": [
        "x=np.array([1,1])"
      ]
    },
    {
      "cell_type": "code",
      "execution_count": 34,
      "metadata": {
        "id": "ltwsjvmmnCgW"
      },
      "outputs": [],
      "source": [
        "A=np.array([[-1,1],[1,2]])"
      ]
    },
    {
      "cell_type": "code",
      "execution_count": 35,
      "metadata": {
        "colab": {
          "base_uri": "https://localhost:8080/",
          "height": 58
        },
        "id": "vrSIJZzSnCgX",
        "outputId": "f5e51fd5-73a4-448b-921a-6ed3fcd715de"
      },
      "outputs": [
        {
          "output_type": "execute_result",
          "data": {
            "text/plain": [
              "⎡0⎤\n",
              "⎢ ⎥\n",
              "⎣3⎦"
            ],
            "text/latex": "$\\displaystyle \\left[\\begin{matrix}0\\\\3\\end{matrix}\\right]$"
          },
          "metadata": {},
          "execution_count": 35
        }
      ],
      "source": [
        "b=A@x\n",
        "Matrix(b)"
      ]
    },
    {
      "cell_type": "markdown",
      "metadata": {
        "id": "d9M1JddhnCgY"
      },
      "source": [
        "We can see that $b$ is a combination of the rows of $A$:\n",
        "\n",
        "$\\mathbf{b}=x\\_{1}\\mathbf{a}*{1}+\\mathbf{x}*{2}a\\_{2}$ or $\\mathbf{b}$ is a rotation of  $\\mathbf{x}$\n"
      ]
    },
    {
      "cell_type": "code",
      "execution_count": 36,
      "metadata": {
        "colab": {
          "base_uri": "https://localhost:8080/",
          "height": 676
        },
        "id": "uZPJmSPpnCgZ",
        "outputId": "ec823c03-b334-46a0-df80-b798892458e8"
      },
      "outputs": [
        {
          "output_type": "display_data",
          "data": {
            "text/plain": [
              "<Figure size 1200x700 with 1 Axes>"
            ],
            "image/png": "[encoded data removed]"
          },
          "metadata": {}
        }
      ],
      "source": [
        "fig, ax = plt.subplots(figsize = (12, 7))\n",
        "ax.quiver([0, 0],[0, 0],A[0,0], A[1,0],scale=10,label=\"$a_{1}$\")\n",
        "ax.quiver([0, 0],[0, 0],A[0,1], A[1,1],scale=10,label=\"$a_{2}$\")\n",
        "ax.quiver([0,0],[0,0],b[0], b[1],scale=10,label=\"b\",color='r')\n",
        "ax.quiver([0,0],[0,0],x[0], x[1],scale=10,label=\"x\",color='b')\n",
        "ax.set_xlim([-10,10])\n",
        "ax.set_ylim([-5,10])\n",
        "fig.legend()\n",
        "plt.show()"
      ]
    },
    {
      "cell_type": "markdown",
      "metadata": {
        "id": "AVHbW5upnCgh"
      },
      "source": [
        "### Multiplying Matrices\n"
      ]
    },
    {
      "cell_type": "markdown",
      "metadata": {
        "id": "_7dH0ed5nCgn"
      },
      "source": [
        "If a matrix $\\mathbf{C}$ is the product of matrix $\\mathbf{A}$ and matrix $\\mathbf{B}$, then the $i-th$ row $j-th$ column is obtained by multiplying term-by-term the entries of the $i-th$ row of $\\mathbf{A}$ and the $j-th$ column of $\\mathbf{B}$, and summing these $n$ products. In other words, you can also think of the  $i-th$ row $j-th$ column as the dot product of the $i-th$ row of $\\mathbf{A}$  and the $j-th$ column of $\\mathbf{B}$:\n"
      ]
    },
    {
      "cell_type": "markdown",
      "metadata": {
        "id": "52RrOpbKnCgz"
      },
      "source": [
        "$\\mathbf{C}=\\mathbf{AB}$\n",
        "\n",
        "$=\\begin{pmatrix}\n",
        "a\\_{11}b\\_{11} +\\cdots + a\\_{1n}b\\_{n1} & a\\_{11}b\\_{12} +\\cdots + a\\_{1n}b\\_{n2} & \\cdots & a\\_{11}b\\_{1p} +\\cdots + a\\_{1n}b\\_{np} \\\\\\\\\\\\\n",
        "a\\_{21}b\\_{11} +\\cdots + a\\_{2n}b\\_{n1} & a\\_{21}b\\_{12} +\\cdots + a\\_{2n}b\\_{n2} & \\cdots & a\\_{21}b\\_{1p} +\\cdots + a\\_{2n}b\\_{np} \\\\\\\\\\\\\n",
        "\\vdots & \\vdots & \\ddots & \\vdots \\\\\\\\\\\\\n",
        "a\\_{m1}b\\_{11} +\\cdots + a\\_{mn}b\\_{n1} & a\\_{m1}b\\_{12} +\\cdots + a\\_{mn}b\\_{n2} & \\cdots & a\\_{m1}b\\_{1p} +\\cdots + a\\_{mn}b\\_{np} \\\\\\\\\\\\\n",
        "\\end{pmatrix} $\n"
      ]
    },
    {
      "cell_type": "code",
      "execution_count": 37,
      "metadata": {
        "colab": {
          "base_uri": "https://localhost:8080/",
          "height": 58
        },
        "id": "4DBhhpPdnCg0",
        "outputId": "da3ed4c3-fdcf-4a44-8e99-09a0afa4b4b0"
      },
      "outputs": [
        {
          "output_type": "execute_result",
          "data": {
            "text/plain": [
              "⎡0  -2⎤\n",
              "⎢     ⎥\n",
              "⎣3  -1⎦"
            ],
            "text/latex": "$\\displaystyle \\left[\\begin{matrix}0 & -2\\\\3 & -1\\end{matrix}\\right]$"
          },
          "metadata": {},
          "execution_count": 37
        }
      ],
      "source": [
        "C=A@B\n",
        "Matrix(C)"
      ]
    },
    {
      "cell_type": "markdown",
      "metadata": {
        "id": "cpzPWtbqnCg2"
      },
      "source": [
        "You can repeat the process for more matrices, if the matrix is full rank, we can invert it: $\\mathbf{A}^{-1}$\n"
      ]
    },
    {
      "cell_type": "code",
      "execution_count": 38,
      "metadata": {
        "colab": {
          "base_uri": "https://localhost:8080/",
          "height": 58
        },
        "id": "54rmFHdxnChB",
        "outputId": "feeea9cc-9c6c-4bbf-c49b-b99ee172da41"
      },
      "outputs": [
        {
          "output_type": "execute_result",
          "data": {
            "text/plain": [
              "⎡-0.666666666666667  0.333333333333333⎤\n",
              "⎢                                     ⎥\n",
              "⎣0.333333333333333   0.333333333333333⎦"
            ],
            "text/latex": "$\\displaystyle \\left[\\begin{matrix}-0.666666666666667 & 0.333333333333333\\\\0.333333333333333 & 0.333333333333333\\end{matrix}\\right]$"
          },
          "metadata": {},
          "execution_count": 38
        }
      ],
      "source": [
        "A_inv=inv(A)\n",
        "Matrix(A_inv)"
      ]
    },
    {
      "cell_type": "markdown",
      "metadata": {
        "id": "ETRfKf79nChC"
      },
      "source": [
        "This can be a complex computation. If we multiply a matrix with its inverse, we get the Identity matrix $\\mathbf{AA}^{-1}=I$.\n"
      ]
    },
    {
      "cell_type": "code",
      "execution_count": 39,
      "metadata": {
        "colab": {
          "base_uri": "https://localhost:8080/",
          "height": 58
        },
        "id": "WBXazmLUnChE",
        "outputId": "649b0af3-d779-4e32-b932-56a60d3f2951"
      },
      "outputs": [
        {
          "output_type": "execute_result",
          "data": {
            "text/plain": [
              "⎡1.0  -1.11022302462516e-16⎤\n",
              "⎢                          ⎥\n",
              "⎣ 0            1.0         ⎦"
            ],
            "text/latex": "$\\displaystyle \\left[\\begin{matrix}1.0 & -1.11022302462516 \\cdot 10^{-16}\\\\0 & 1.0\\end{matrix}\\right]$"
          },
          "metadata": {},
          "execution_count": 39
        }
      ],
      "source": [
        "I=A_inv@A\n",
        "Matrix(I)"
      ]
    },
    {
      "cell_type": "markdown",
      "metadata": {
        "id": "1McQoBginChF"
      },
      "source": [
        "If we multiply any square matrix with an Identity matrix, we get the original Matrix, for example $IA=A$ in numpy:\n"
      ]
    },
    {
      "cell_type": "code",
      "execution_count": 40,
      "metadata": {
        "colab": {
          "base_uri": "https://localhost:8080/"
        },
        "id": "xgT5ubrNnChG",
        "outputId": "93453fa0-b886-4802-ddc7-d6ac5c961655"
      },
      "outputs": [
        {
          "output_type": "execute_result",
          "data": {
            "text/plain": [
              "array([[-1.,  1.],\n",
              "       [ 1.,  2.]])"
            ]
          },
          "metadata": {},
          "execution_count": 40
        }
      ],
      "source": [
        "A@I"
      ]
    },
    {
      "cell_type": "markdown",
      "metadata": {
        "id": "dooy9AGAnChH"
      },
      "source": [
        "### Exercise 3\n",
        "\n",
        "Use the inverse of  matrix $\\mathbf{A}$ to solve for $\\mathbf{x}$ given $\\mathbf{b}$ and assign it to `x_` compare the result to `x`\n"
      ]
    },
    {
      "cell_type": "code",
      "execution_count": 41,
      "metadata": {
        "id": "7wUScnhvnChH"
      },
      "outputs": [],
      "source": [
        "# TO DO\n"
      ]
    },
    {
      "cell_type": "markdown",
      "metadata": {
        "id": "T6H9uQo1nChI"
      },
      "source": [
        "<details>\n",
        "    <summary>Click here for Solution</summary>\n",
        "\n",
        "```python\n",
        "x_=A_inv@b\n",
        "print(\"x_ :\",x_)\n",
        "print(\"x:\",x)\n",
        "```\n",
        "\n",
        "</details>\n"
      ]
    },
    {
      "cell_type": "markdown",
      "metadata": {
        "id": "Cj-UDNNYnChJ"
      },
      "source": [
        "Another type of matrixes is the **orthogonal matrix**. An <b>orthogonal matrix</b> is extremely useful: if matrix $Q$ is orthogonal, such as $Q^T=Q^{-1}$, the rows and columns are orthogonal also. For example:\n"
      ]
    },
    {
      "cell_type": "code",
      "execution_count": 42,
      "metadata": {
        "colab": {
          "base_uri": "https://localhost:8080/"
        },
        "id": "gV70S5OMnChJ",
        "outputId": "61774418-48d0-44cd-e954-01b85a2db2a5"
      },
      "outputs": [
        {
          "output_type": "execute_result",
          "data": {
            "text/plain": [
              "array([[ 0.70710678,  0.70710678],\n",
              "       [ 0.70710678, -0.70710678]])"
            ]
          },
          "metadata": {},
          "execution_count": 42
        }
      ],
      "source": [
        "Q=np.array([[1,1],[1,-1]])*2**(-1/2)\n",
        "Q"
      ]
    },
    {
      "cell_type": "markdown",
      "metadata": {
        "id": "i3XKT0ufnChK"
      },
      "source": [
        "We can verify that $Q^T=Q^{-1}$:\n"
      ]
    },
    {
      "cell_type": "code",
      "execution_count": 43,
      "metadata": {
        "colab": {
          "base_uri": "https://localhost:8080/",
          "height": 58
        },
        "id": "sSAqHZPJnChM",
        "outputId": "d62a47af-3fd8-47fe-cb9c-8c2d2bcd6d89"
      },
      "outputs": [
        {
          "output_type": "execute_result",
          "data": {
            "text/plain": [
              "⎡        1.0           4.26642158858964e-17⎤\n",
              "⎢                                          ⎥\n",
              "⎣4.26642158858964e-17          1.0         ⎦"
            ],
            "text/latex": "$\\displaystyle \\left[\\begin{matrix}1.0 & 4.26642158858964 \\cdot 10^{-17}\\\\4.26642158858964 \\cdot 10^{-17} & 1.0\\end{matrix}\\right]$"
          },
          "metadata": {},
          "execution_count": 43
        }
      ],
      "source": [
        "I=Q@Q.T\n",
        "Matrix(I)"
      ]
    },
    {
      "cell_type": "markdown",
      "metadata": {
        "id": "70N6B7O9nChN"
      },
      "source": [
        "For an <b>orthogonal matrix</b>, the columns are orthogonal:\n"
      ]
    },
    {
      "cell_type": "code",
      "execution_count": 44,
      "metadata": {
        "colab": {
          "base_uri": "https://localhost:8080/",
          "height": 622
        },
        "id": "SAy4LTk5nChP",
        "outputId": "5ad50a80-f9b7-49e1-dd05-28b3fea35cbf"
      },
      "outputs": [
        {
          "output_type": "display_data",
          "data": {
            "text/plain": [
              "<Figure size 1200x700 with 1 Axes>"
            ],
            "image/png": "[encoded data removed]"
          },
          "metadata": {}
        }
      ],
      "source": [
        "fig, ax = plt.subplots(figsize = (12, 7))\n",
        "ax.quiver([0, 0],[0, 0],B[0,0], B[1,0],scale=10,label=\"$q_{1}$\")\n",
        "ax.quiver([0, 0],[0, 0],B[0,1], B[1,1],scale=10,label=\"$q_{2}$\")\n",
        "plt.title(\"columns of $B$ \")\n",
        "plt.legend()\n",
        "plt.show()"
      ]
    },
    {
      "cell_type": "markdown",
      "metadata": {
        "id": "ohTcU6xZnChQ"
      },
      "source": [
        "We usually place our data in a design matrix $X$, which is a matrix where each row represents an individual sample. Consider the following example `X_`\n"
      ]
    },
    {
      "cell_type": "code",
      "execution_count": 45,
      "metadata": {
        "colab": {
          "base_uri": "https://localhost:8080/"
        },
        "id": "wCthxyd2nChQ",
        "outputId": "89a6a6fb-1b6b-4f29-9fcd-3bb3baa03351"
      },
      "outputs": [
        {
          "output_type": "execute_result",
          "data": {
            "text/plain": [
              "array([[ 8.49313801,  8.46313968],\n",
              "       [14.12932698, 14.11551943],\n",
              "       [ 5.62338948,  4.83201747],\n",
              "       [ 5.10642466,  4.5564525 ],\n",
              "       [10.92326768, 10.68358756]])"
            ]
          },
          "metadata": {},
          "execution_count": 45
        }
      ],
      "source": [
        "samples=200\n",
        "\n",
        "u=np.array([[1.0,1.0],[0.10,-0.10]])/(2)**(0.5)\n",
        "\n",
        "X_=np.dot(4*np.random.randn(samples,2),u)+10\n",
        "X_[0:5]"
      ]
    },
    {
      "cell_type": "markdown",
      "metadata": {
        "id": "Ii4ji5XFnChR"
      },
      "source": [
        "We can plot the samples:\n"
      ]
    },
    {
      "cell_type": "code",
      "execution_count": 46,
      "metadata": {
        "colab": {
          "base_uri": "https://localhost:8080/",
          "height": 430
        },
        "id": "_l7s0pjZnChX",
        "outputId": "a8e811ca-a0e0-4df5-aaca-bd63d8498eb5"
      },
      "outputs": [
        {
          "output_type": "display_data",
          "data": {
            "text/plain": [
              "<Figure size 640x480 with 1 Axes>"
            ],
            "image/png": "[encoded data removed]"
          },
          "metadata": {}
        }
      ],
      "source": [
        "dict_={\"design matrix samples\":X_}\n",
        "plot_2d(dict_)"
      ]
    },
    {
      "cell_type": "markdown",
      "metadata": {
        "id": "odaXfk5JnChY"
      },
      "source": [
        "We can find the shape of the design matrix:\n"
      ]
    },
    {
      "cell_type": "code",
      "execution_count": 47,
      "metadata": {
        "colab": {
          "base_uri": "https://localhost:8080/"
        },
        "id": "wujAYiVJnChY",
        "outputId": "69d6898b-40f6-4a3e-d447-a643eb6115dc"
      },
      "outputs": [
        {
          "output_type": "stream",
          "name": "stdout",
          "text": [
            "number of smaples 200, dimensions is 2\n"
          ]
        }
      ],
      "source": [
        "N,D=X_.shape\n",
        "print(\"number of smaples {}, dimensions is {}\".format(N,D))"
      ]
    },
    {
      "cell_type": "markdown",
      "metadata": {
        "id": "KoKNwJiFnChZ"
      },
      "source": [
        "We can also perform lots of operations with Matrix multiplication, for example we can calculate the mean with the following:\n"
      ]
    },
    {
      "cell_type": "code",
      "execution_count": 48,
      "metadata": {
        "colab": {
          "base_uri": "https://localhost:8080/"
        },
        "id": "dQywLFI_nCha",
        "outputId": "50b22e66-7d63-452b-f508-4548c3df279c"
      },
      "outputs": [
        {
          "output_type": "execute_result",
          "data": {
            "text/plain": [
              "array([[9.77431066, 9.76422072]])"
            ]
          },
          "metadata": {},
          "execution_count": 48
        }
      ],
      "source": [
        "mean=(np.ones((1,N))/N)@X_\n",
        "mean"
      ]
    },
    {
      "cell_type": "markdown",
      "metadata": {
        "id": "VXjQyz7snCha"
      },
      "source": [
        "We can verify the result in numpy.\n"
      ]
    },
    {
      "cell_type": "code",
      "execution_count": 49,
      "metadata": {
        "colab": {
          "base_uri": "https://localhost:8080/"
        },
        "id": "JwQgX_1QnCha",
        "outputId": "16f0bcde-0667-49a9-d61b-9a35e3c8c7d7"
      },
      "outputs": [
        {
          "output_type": "execute_result",
          "data": {
            "text/plain": [
              "array([9.77431066, 9.76422072])"
            ]
          },
          "metadata": {},
          "execution_count": 49
        }
      ],
      "source": [
        "X_.mean(axis=0)"
      ]
    },
    {
      "cell_type": "markdown",
      "metadata": {
        "tags": [],
        "id": "Rfr5hKQ2nChb"
      },
      "source": [
        "### Exercise 4\n",
        "\n",
        "Perform matrix multiplication using **no_mean** and **X\\_**, save the result in **X**. Show the mean of **X** with respect to the rows is approximately zero:\n"
      ]
    },
    {
      "cell_type": "code",
      "execution_count": 50,
      "metadata": {
        "id": "Ttf1eIW9nChd"
      },
      "outputs": [],
      "source": [
        "I=np.identity(N)\n",
        "col1=np.ones((1,N))\n",
        "row1=np.ones((N,1))/N\n",
        "no_mean=(I-row1@col1)\n"
      ]
    },
    {
      "cell_type": "code",
      "execution_count": 53,
      "metadata": {
        "colab": {
          "base_uri": "https://localhost:8080/"
        },
        "id": "_fmT1MKmnChd",
        "outputId": "d566d682-21b0-4f3e-a74d-0e09f07d140c"
      },
      "outputs": [
        {
          "output_type": "stream",
          "name": "stdout",
          "text": [
            "mean of X [ 8.61533067e-16 -1.84741111e-15]\n"
          ]
        }
      ],
      "source": [
        "# TO DO\n",
        "X=no_mean@X_\n",
        "print(\"mean of X\",X.mean(axis=0))"
      ]
    },
    {
      "cell_type": "markdown",
      "metadata": {
        "id": "tU3OU9HmnChe"
      },
      "source": [
        "<details>\n",
        "    <summary>Click here for Solution</summary>\n",
        "\n",
        "```python\n",
        "X=no_mean@X_\n",
        "print(\"mean of X\",X.mean(axis=0))\n",
        "```\n",
        "\n",
        "</details>\n"
      ]
    },
    {
      "cell_type": "code",
      "execution_count": 54,
      "metadata": {
        "colab": {
          "base_uri": "https://localhost:8080/",
          "height": 447
        },
        "id": "-wP54y5DnChe",
        "outputId": "950c5214-5e12-4d25-dd27-31a004d982d7"
      },
      "outputs": [
        {
          "output_type": "stream",
          "name": "stdout",
          "text": [
            "[[9.77431066 9.76422072]]\n"
          ]
        },
        {
          "output_type": "display_data",
          "data": {
            "text/plain": [
              "<Figure size 640x480 with 1 Axes>"
            ],
            "image/png": "[encoded data removed]"
          },
          "metadata": {}
        }
      ],
      "source": [
        "dict_={\"original data\":X_,\"zero mean data\":X,\"mean\":mean}\n",
        "plot_2d(dict_)"
      ]
    },
    {
      "cell_type": "markdown",
      "metadata": {
        "id": "1afkM4mMnChf"
      },
      "source": [
        "As we subtracted the mean, we can calculate the empirical covariance matrix using matrix multiplication.\n"
      ]
    },
    {
      "cell_type": "markdown",
      "metadata": {
        "id": "MfPFjM5cnChf"
      },
      "source": [
        "$C=\\frac{1}{N}   \\mathbf{X}^T \\mathbf{X} $\n"
      ]
    },
    {
      "cell_type": "code",
      "execution_count": 55,
      "metadata": {
        "colab": {
          "base_uri": "https://localhost:8080/",
          "height": 58
        },
        "id": "Sv8mA2qNnChg",
        "outputId": "12b7a881-c373-425f-ba4a-318dc44b5a6a"
      },
      "outputs": [
        {
          "output_type": "execute_result",
          "data": {
            "text/plain": [
              "⎡8.28934287197638  8.39687426208107⎤\n",
              "⎢                                  ⎥\n",
              "⎣8.39687426208107  8.77030929807452⎦"
            ],
            "text/latex": "$\\displaystyle \\left[\\begin{matrix}8.28934287197638 & 8.39687426208107\\\\8.39687426208107 & 8.77030929807452\\end{matrix}\\right]$"
          },
          "metadata": {},
          "execution_count": 55
        }
      ],
      "source": [
        "C=X.T@X/N\n",
        "Matrix(C)"
      ]
    },
    {
      "cell_type": "markdown",
      "metadata": {
        "id": "reenTchsnChg"
      },
      "source": [
        "We can see the matrix is full rank:\n"
      ]
    },
    {
      "cell_type": "code",
      "execution_count": 56,
      "metadata": {
        "colab": {
          "base_uri": "https://localhost:8080/"
        },
        "id": "K4iqBoQPnChh",
        "outputId": "8591e321-c395-4e04-e985-9f16203efc21"
      },
      "outputs": [
        {
          "output_type": "execute_result",
          "data": {
            "text/plain": [
              "2"
            ]
          },
          "metadata": {},
          "execution_count": 56
        }
      ],
      "source": [
        "matrix_rank(C)"
      ]
    },
    {
      "cell_type": "markdown",
      "metadata": {
        "tags": [],
        "id": "GMFV0mFHnChh"
      },
      "source": [
        "## Eigen Decomposition\n"
      ]
    },
    {
      "cell_type": "markdown",
      "metadata": {
        "id": "Jv5KlJZOnChi"
      },
      "source": [
        "### Eigenvectors and Eigenvalues\n"
      ]
    },
    {
      "cell_type": "markdown",
      "metadata": {
        "id": "9ZNDaY2TnChi"
      },
      "source": [
        "If the Matrix is full rank we can apply Eigen factorization or Eigen decomposition to it, so that it is represented in terms of its eigenvalues $\\mathbf{\\Lambda}$ and eigenvectors embedded in $\\mathbf{Q}$, symbolically:\n"
      ]
    },
    {
      "cell_type": "markdown",
      "metadata": {
        "id": "KSztdvaHnChj"
      },
      "source": [
        "$\\mathbf{A}=\\mathbf{Q}\\mathbf{\\Lambda}\\mathbf{Q}^{-1}$\n"
      ]
    },
    {
      "cell_type": "markdown",
      "metadata": {
        "id": "ytVZkXlYnChj"
      },
      "source": [
        "We can obtain the Matrices as follows:\n"
      ]
    },
    {
      "cell_type": "code",
      "execution_count": 57,
      "metadata": {
        "id": "st2ie8smnChj"
      },
      "outputs": [],
      "source": [
        "eigen_values , eigen_vectors = eig(A)"
      ]
    },
    {
      "cell_type": "markdown",
      "metadata": {
        "id": "AIP2IUKmnChk"
      },
      "source": [
        "`eigen_values` is a vector so we convert it to a diagonal matrix  using the `np.diag` function\n"
      ]
    },
    {
      "cell_type": "code",
      "execution_count": 58,
      "metadata": {
        "colab": {
          "base_uri": "https://localhost:8080/",
          "height": 58
        },
        "id": "NmIcErDSnChk",
        "outputId": "0119cea8-ac8d-4f19-a696-2fd62f4bc295"
      },
      "outputs": [
        {
          "output_type": "execute_result",
          "data": {
            "text/plain": [
              "⎡-1.30277563773199         0        ⎤\n",
              "⎢                                   ⎥\n",
              "⎣        0          2.30277563773199⎦"
            ],
            "text/latex": "$\\displaystyle \\left[\\begin{matrix}-1.30277563773199 & 0\\\\0 & 2.30277563773199\\end{matrix}\\right]$"
          },
          "metadata": {},
          "execution_count": 58
        }
      ],
      "source": [
        "Matrix(np.diag(eigen_values))"
      ]
    },
    {
      "cell_type": "markdown",
      "metadata": {
        "id": "24ycneZEnChl"
      },
      "source": [
        "We can retrieve the original matrix as follows:\n"
      ]
    },
    {
      "cell_type": "code",
      "execution_count": 59,
      "metadata": {
        "colab": {
          "base_uri": "https://localhost:8080/",
          "height": 58
        },
        "id": "rc5J6zcJnChl",
        "outputId": "15bff4a9-ae21-474d-a167-178a5e59ec82"
      },
      "outputs": [
        {
          "output_type": "execute_result",
          "data": {
            "text/plain": [
              "⎡-1.0  1.0⎤\n",
              "⎢         ⎥\n",
              "⎣1.0   2.0⎦"
            ],
            "text/latex": "$\\displaystyle \\left[\\begin{matrix}-1.0 & 1.0\\\\1.0 & 2.0\\end{matrix}\\right]$"
          },
          "metadata": {},
          "execution_count": 59
        }
      ],
      "source": [
        "A=eigen_vectors@np.diag(eigen_values)@inv(eigen_vectors)\n",
        "Matrix(A)"
      ]
    },
    {
      "cell_type": "markdown",
      "metadata": {
        "id": "KsxvcAl0nChl"
      },
      "source": [
        "## Factorization for PCA\n"
      ]
    },
    {
      "cell_type": "markdown",
      "metadata": {
        "id": "Giiz_r_tnChm"
      },
      "source": [
        "We can only use  eigen decomposition if the matrix is full rank, but even if the matrix is full rank, the eigenvalues and eigenvectors could be complex.\n",
        "\n",
        "A useful application of the symmetric matrix ($S=S^{T}$) is where we want the eigenvalues to be real and the eigenvectors to be orthogonal. For example, the covariance matrix $C$ in PCA.\n"
      ]
    },
    {
      "cell_type": "markdown",
      "metadata": {
        "id": "hm3nfG5KnChm"
      },
      "source": [
        "$\\mathbf{C}=\\mathbf{V}\\mathbf{\\Lambda}\\mathbf{V}^{T}$\n"
      ]
    },
    {
      "cell_type": "markdown",
      "metadata": {
        "id": "fWCifPgnnChn"
      },
      "source": [
        "Using numpy,\n"
      ]
    },
    {
      "cell_type": "code",
      "execution_count": 60,
      "metadata": {
        "id": "tvZJRdeEnChn"
      },
      "outputs": [],
      "source": [
        "eigen_values , eigen_vectors = eig(C)"
      ]
    },
    {
      "cell_type": "markdown",
      "metadata": {
        "id": "-0IZhMzBnCho"
      },
      "source": [
        "We can perform PCA using factorization. To find the first principle component, we need to find the eigenvector with the largest eigenvalue.\n"
      ]
    },
    {
      "cell_type": "code",
      "execution_count": 61,
      "metadata": {
        "colab": {
          "base_uri": "https://localhost:8080/"
        },
        "id": "aWJzA_nXnCho",
        "outputId": "d63bbe1e-b436-43bd-8e65-8610652065c0"
      },
      "outputs": [
        {
          "output_type": "execute_result",
          "data": {
            "text/plain": [
              "array([[-0.6969118 ],\n",
              "       [-0.71715684]])"
            ]
          },
          "metadata": {},
          "execution_count": 61
        }
      ],
      "source": [
        "v=eigen_vectors[:, np.argmax(eigen_values)].reshape(-1,1)\n",
        "v"
      ]
    },
    {
      "cell_type": "markdown",
      "metadata": {
        "id": "WBNr6wfgnChp"
      },
      "source": [
        "We can calculate first principal component by finding the projection of the original data onto $\\mathbf{v}$.\n"
      ]
    },
    {
      "cell_type": "markdown",
      "metadata": {
        "id": "H_vhBxC5nChp"
      },
      "source": [
        "$\\mathbf{Z}=\\mathbf{X} \\mathbf{v}$\n"
      ]
    },
    {
      "cell_type": "code",
      "execution_count": 62,
      "metadata": {
        "id": "GsuBd0LKnChq"
      },
      "outputs": [],
      "source": [
        "Z=X@v"
      ]
    },
    {
      "cell_type": "markdown",
      "metadata": {
        "id": "ZW1QfIjtnChq"
      },
      "source": [
        "### Exercise 5\n",
        "\n",
        "Perform PCA with `n_components=1` on **X**. Store the transformed data in **X_transformed**. Also do an inverse_transform using the same fitted PCA object, store the result in **X\\_**.\n"
      ]
    },
    {
      "cell_type": "code",
      "execution_count": 63,
      "metadata": {
        "id": "BPID8gxJnChr"
      },
      "outputs": [],
      "source": [
        "#TODO\n",
        "pca = PCA(n_components=1)\n",
        "X_transformed=pca.fit_transform(X)\n",
        "X_=pca.inverse_transform(X_transformed)"
      ]
    },
    {
      "cell_type": "markdown",
      "metadata": {
        "id": "yL1OXYn7nChr"
      },
      "source": [
        "<details>\n",
        "    <summary>Click here for Solution</summary>\n",
        "\n",
        "```python\n",
        "pca = PCA(n_components=1)\n",
        "X_transformed=pca.fit_transform(X)\n",
        "X_=pca.inverse_transform(X_transformed)\n",
        "\n",
        "```\n",
        "\n",
        "</details>\n"
      ]
    },
    {
      "cell_type": "markdown",
      "metadata": {
        "id": "EcjICZPNnChs"
      },
      "source": [
        "We can also  transform the data back to its original space, using matrix multiplication:\n"
      ]
    },
    {
      "cell_type": "markdown",
      "metadata": {
        "id": "8KwA1TmBnChs"
      },
      "source": [
        "$\\hat{X}=\\mathbf{Z} \\mathbf{v}^T$\n"
      ]
    },
    {
      "cell_type": "markdown",
      "metadata": {
        "id": "l2zdcDrSnCht"
      },
      "source": [
        "### Exercise 6\n",
        "\n",
        "Find the transform data back to its original space from the above equation, call it **Xhat**.\n"
      ]
    },
    {
      "cell_type": "code",
      "execution_count": 64,
      "metadata": {
        "id": "OXcz5urxnCht"
      },
      "outputs": [],
      "source": [
        "#TODO\n",
        "Xhat=Z@v.T"
      ]
    },
    {
      "cell_type": "markdown",
      "metadata": {
        "id": "S399Z46MnCht"
      },
      "source": [
        "<details>\n",
        "    <summary>Click here for Solution</summary>\n",
        "\n",
        "```python\n",
        "Xhat=Z@v.T\n",
        "```\n",
        "\n",
        "</details>\n"
      ]
    },
    {
      "cell_type": "markdown",
      "metadata": {
        "id": "quUcmMTtnChu"
      },
      "source": [
        "You can also check that the two methods give the same \"inverse transform\" result (**X\\_** and **Xhat** will overlap in the plot) by running the following cell.\n"
      ]
    },
    {
      "cell_type": "code",
      "execution_count": 65,
      "metadata": {
        "colab": {
          "base_uri": "https://localhost:8080/",
          "height": 447
        },
        "id": "rZ7U_IzQnCh-",
        "outputId": "e6aee9e4-4fe2-45cf-b8dc-f34f907abee5"
      },
      "outputs": [
        {
          "output_type": "stream",
          "name": "stdout",
          "text": [
            "[[-0.6969118  -0.71715684]]\n"
          ]
        },
        {
          "output_type": "display_data",
          "data": {
            "text/plain": [
              "<Figure size 640x480 with 1 Axes>"
            ],
            "image/png": "[encoded data removed]"
          },
          "metadata": {}
        }
      ],
      "source": [
        "dict_ = {\"Sklearn inverse_transform\": X_, \"Matrix inverse transform\": Xhat, \"First Principal Component\": v.T}\n",
        "plot_2d(dict_)"
      ]
    },
    {
      "cell_type": "markdown",
      "metadata": {
        "id": "SLOUIxrCnCiA"
      },
      "source": [
        "# Congratulations! - You have completed the lab\n"
      ]
    },
    {
      "cell_type": "markdown",
      "metadata": {
        "id": "dstuNNuanCiA"
      },
      "source": [
        "## Authors\n"
      ]
    },
    {
      "cell_type": "markdown",
      "metadata": {
        "id": "sjfLQXM5nCiB"
      },
      "source": [
        "<a href=\"https://www.linkedin.com/in/joseph-s-50398b136/?utm_medium=Exinfluencer&utm_source=Exinfluencer&utm_content=000026UJ&utm_term=10006555&utm_id=NA-SkillsNetwork-Channel-SkillsNetworkCoursesIBMDeveloperSkillsNetworkML0101ENSkillsNetwork20718538-2021-01-01\">Joseph Santarcangelo</a> Joseph has a Ph.D. in Electrical Engineering, his research focused on using machine learning, signal processing, and computer vision to determine how videos impact human cognition. Joseph has been working for IBM since he completed his PhD.\n"
      ]
    },
    {
      "cell_type": "markdown",
      "metadata": {
        "id": "Uwq_SavDnCiC"
      },
      "source": [
        "### Other Contributors\n"
      ]
    },
    {
      "cell_type": "markdown",
      "metadata": {
        "id": "BzPCAD53nCiC"
      },
      "source": [
        "[Roxanne Li](https://www.linkedin.com/in/roxanne-li/?utm_medium=Exinfluencer&utm_source=Exinfluencer&utm_content=000026UJ&utm_term=10006555&utm_id=NA-SkillsNetwork-Channel-SkillsNetworkCoursesIBMML0187ENSkillsNetwork31430127-2022-01-01) is a Data Science intern at IBM Skills Network, entering level-5 study in the Mathematics & Statistics undergraduate Coop program at McMaster University.\n"
      ]
    },
    {
      "cell_type": "markdown",
      "metadata": {
        "id": "TTL0KOIwnCiE"
      },
      "source": [
        "## Change Log\n"
      ]
    },
    {
      "cell_type": "markdown",
      "metadata": {
        "id": "pxH0YoIfnCiF"
      },
      "source": [
        "| Date (YYYY-MM-DD) | Version | Changed By  | Change Description  |\n",
        "| ----------------- | ------- | ----------- | ------------------- |\n",
        "| 2022-03-25        | 0.1     | Joseph S.   | Updated all content |\n",
        "| 2022-05-26        | 0.1     | Roxanne Li  | Review and edit     |\n",
        "| 2022-06-09        | 0.1     | Steve H.    | QA pass             |\n",
        "| 2022-07-15        | 0.1     | Svitlana K. | Review and edit     |\n"
      ]
    },
    {
      "cell_type": "markdown",
      "metadata": {
        "id": "062ZhRASnCiF"
      },
      "source": [
        "Copyright © 2021 IBM Corporation. All rights reserved.\n"
      ]
    }
  ],
  "metadata": {
    "kernelspec": {
      "display_name": "Python",
      "language": "python",
      "name": "conda-env-python-py"
    },
    "language_info": {
      "name": ""
    },
    "colab": {
      "provenance": [],
      "include_colab_link": true
    }
  },
  "nbformat": 4,
  "nbformat_minor": 0
}